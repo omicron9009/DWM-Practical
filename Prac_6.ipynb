{
 "cells": [
  {
   "cell_type": "code",
   "execution_count": 11,
   "id": "635009b5-c8c3-40d3-988d-ffc5e05b2a63",
   "metadata": {},
   "outputs": [],
   "source": [
    "#ETL Extract Trandorm Load "
   ]
  },
  {
   "cell_type": "code",
   "execution_count": 13,
   "id": "14a82d97-a604-4aee-9fbb-a83d56417705",
   "metadata": {},
   "outputs": [],
   "source": [
    "import pandas as pd "
   ]
  },
  {
   "cell_type": "code",
   "execution_count": 15,
   "id": "31a7c849-8c0c-4a24-99ec-c8388f1be02a",
   "metadata": {},
   "outputs": [],
   "source": [
    "data={\n",
    "    'ID':[1,2,3,4,5,6],\n",
    "    'Name':['Ram','Shyam','Raju','Kaju','Prem','Rahul'],\n",
    "    'Age':[20,32,23,40,21,30],\n",
    "    'State':[\"MH\",\"GJ\",\"UP\",\"MP\",\"MH\",\"UP\"],\n",
    "    'Sales':[200,300,450,320,420,250]\n",
    "}    "
   ]
  },
  {
   "cell_type": "code",
   "execution_count": 19,
   "id": "a587142f-25fe-4f7e-b38e-8cf161d6d685",
   "metadata": {},
   "outputs": [
    {
     "name": "stdout",
     "output_type": "stream",
     "text": [
      "Original data :\n"
     ]
    },
    {
     "data": {
      "text/html": [
       "<div>\n",
       "<style scoped>\n",
       "    .dataframe tbody tr th:only-of-type {\n",
       "        vertical-align: middle;\n",
       "    }\n",
       "\n",
       "    .dataframe tbody tr th {\n",
       "        vertical-align: top;\n",
       "    }\n",
       "\n",
       "    .dataframe thead th {\n",
       "        text-align: right;\n",
       "    }\n",
       "</style>\n",
       "<table border=\"1\" class=\"dataframe\">\n",
       "  <thead>\n",
       "    <tr style=\"text-align: right;\">\n",
       "      <th></th>\n",
       "      <th>ID</th>\n",
       "      <th>Name</th>\n",
       "      <th>Age</th>\n",
       "      <th>State</th>\n",
       "      <th>Sales</th>\n",
       "    </tr>\n",
       "  </thead>\n",
       "  <tbody>\n",
       "    <tr>\n",
       "      <th>0</th>\n",
       "      <td>1</td>\n",
       "      <td>Ram</td>\n",
       "      <td>20</td>\n",
       "      <td>MH</td>\n",
       "      <td>200</td>\n",
       "    </tr>\n",
       "    <tr>\n",
       "      <th>1</th>\n",
       "      <td>2</td>\n",
       "      <td>Shyam</td>\n",
       "      <td>32</td>\n",
       "      <td>GJ</td>\n",
       "      <td>300</td>\n",
       "    </tr>\n",
       "    <tr>\n",
       "      <th>2</th>\n",
       "      <td>3</td>\n",
       "      <td>Raju</td>\n",
       "      <td>23</td>\n",
       "      <td>UP</td>\n",
       "      <td>450</td>\n",
       "    </tr>\n",
       "    <tr>\n",
       "      <th>3</th>\n",
       "      <td>4</td>\n",
       "      <td>Kaju</td>\n",
       "      <td>40</td>\n",
       "      <td>MP</td>\n",
       "      <td>320</td>\n",
       "    </tr>\n",
       "    <tr>\n",
       "      <th>4</th>\n",
       "      <td>5</td>\n",
       "      <td>Prem</td>\n",
       "      <td>21</td>\n",
       "      <td>MH</td>\n",
       "      <td>420</td>\n",
       "    </tr>\n",
       "    <tr>\n",
       "      <th>5</th>\n",
       "      <td>6</td>\n",
       "      <td>Rahul</td>\n",
       "      <td>30</td>\n",
       "      <td>UP</td>\n",
       "      <td>250</td>\n",
       "    </tr>\n",
       "  </tbody>\n",
       "</table>\n",
       "</div>"
      ],
      "text/plain": [
       "   ID   Name  Age State  Sales\n",
       "0   1    Ram   20    MH    200\n",
       "1   2  Shyam   32    GJ    300\n",
       "2   3   Raju   23    UP    450\n",
       "3   4   Kaju   40    MP    320\n",
       "4   5   Prem   21    MH    420\n",
       "5   6  Rahul   30    UP    250"
      ]
     },
     "execution_count": 19,
     "metadata": {},
     "output_type": "execute_result"
    }
   ],
   "source": [
    "df=pd.DataFrame(data)\n",
    "print(\"Original data :\")\n",
    "df"
   ]
  },
  {
   "cell_type": "markdown",
   "id": "dd04000b-43dd-4dd6-a6eb-e749b85e9c8f",
   "metadata": {},
   "source": [
    "# Transform data"
   ]
  },
  {
   "cell_type": "code",
   "execution_count": 23,
   "id": "fa98b6f0-43f2-4742-b005-df8c9b306be0",
   "metadata": {},
   "outputs": [
    {
     "name": "stdout",
     "output_type": "stream",
     "text": [
      "\n",
      "Character Map (Uppercase Names) : \n",
      "   ID   Name Name_Upper\n",
      "0   1    Ram        RAM\n",
      "1   2  Shyam      SHYAM\n",
      "2   3   Raju       RAJU\n",
      "3   4   Kaju       KAJU\n",
      "4   5   Prem       PREM\n",
      "5   6  Rahul      RAHUL\n"
     ]
    }
   ],
   "source": [
    "df['Name_Upper']=df['Name'].str.upper()\n",
    "print(\"\\nCharacter Map (Uppercase Names) : \")\n",
    "print(df[['ID','Name','Name_Upper']])"
   ]
  },
  {
   "cell_type": "code",
   "execution_count": 33,
   "id": "2d108805-8e07-42ea-8236-f979f5a612ba",
   "metadata": {},
   "outputs": [],
   "source": [
    "# multicasting (copying the dataset )"
   ]
  },
  {
   "cell_type": "code",
   "execution_count": 41,
   "id": "22d073c6-66ab-4e4f-95d0-c2a20833b829",
   "metadata": {},
   "outputs": [
    {
     "name": "stdout",
     "output_type": "stream",
     "text": [
      "\n",
      "Multicast (Modified Copies) : \n",
      "Copy 1 (Sales Increased) :\n",
      "   ID   Name  Age State  Sales Name_Upper\n",
      "0   1    Ram   20    MH  220.0        RAM\n",
      "1   2  Shyam   32    GJ  330.0      SHYAM\n",
      "2   3   Raju   23    UP  495.0       RAJU\n",
      "3   4   Kaju   40    MP  352.0       KAJU\n",
      "4   5   Prem   21    MH  462.0       PREM\n",
      "5   6  Rahul   30    UP  275.0      RAHUL\n",
      "\n",
      "Copy 2 (Age Increased) : \n",
      "   ID   Name  Age State  Sales Name_Upper\n",
      "0   1    Ram   25    MH    200        RAM\n",
      "1   2  Shyam   37    GJ    300      SHYAM\n",
      "2   3   Raju   28    UP    450       RAJU\n",
      "3   4   Kaju   45    MP    320       KAJU\n",
      "4   5   Prem   26    MH    420       PREM\n",
      "5   6  Rahul   35    UP    250      RAHUL\n"
     ]
    }
   ],
   "source": [
    "df_copy1=df.copy()\n",
    "df_copy2=df.copy()\n",
    "\n",
    "df_copy1['Sales']*=1.1\n",
    "df_copy2['Age']+=5\n",
    "\n",
    "print(\"\\nMulticast (Modified Copies) : \")\n",
    "print(\"Copy 1 (Sales Increased) :\")\n",
    "print(df_copy1)\n",
    "print(\"\\nCopy 2 (Age Increased) : \")\n",
    "print(df_copy2)"
   ]
  },
  {
   "cell_type": "code",
   "execution_count": 43,
   "id": "234d1b2a-1598-4457-b0ca-4aff154d85a9",
   "metadata": {},
   "outputs": [],
   "source": [
    "#conditionally split the data  "
   ]
  },
  {
   "cell_type": "code",
   "execution_count": 45,
   "id": "9aab429c-c453-4a63-b012-49500276f3d5",
   "metadata": {},
   "outputs": [
    {
     "name": "stdout",
     "output_type": "stream",
     "text": [
      "\n",
      "Conditional Split : \n",
      "High Sales : \n",
      "   ID  Name  Age State  Sales Name_Upper\n",
      "2   3  Raju   23    UP    450       RAJU\n",
      "3   4  Kaju   40    MP    320       KAJU\n",
      "4   5  Prem   21    MH    420       PREM\n",
      "\n",
      "Low Sales: \n",
      "   ID   Name  Age State  Sales Name_Upper\n",
      "0   1    Ram   20    MH    200        RAM\n",
      "1   2  Shyam   32    GJ    300      SHYAM\n",
      "5   6  Rahul   30    UP    250      RAHUL\n"
     ]
    }
   ],
   "source": [
    "high_sales=df[df['Sales']>300]\n",
    "low_sales=df[df['Sales']<=300]\n",
    "print(\"\\nConditional Split : \")\n",
    "print(\"High Sales : \")\n",
    "print(high_sales)\n",
    "print(\"\\nLow Sales: \")\n",
    "print(low_sales)"
   ]
  },
  {
   "cell_type": "code",
   "execution_count": 53,
   "id": "3abd671a-d941-4843-9e8a-6cdfc80452f7",
   "metadata": {},
   "outputs": [
    {
     "name": "stdout",
     "output_type": "stream",
     "text": [
      "\n",
      "Aggregation (Total Sales by Country):\n",
      "  State  Sales\n",
      "0    GJ    300\n",
      "1    MH    620\n",
      "2    MP    320\n",
      "3    UP    700\n"
     ]
    }
   ],
   "source": [
    "#Aggregation aggregate data , e.g , calculate total sales by country.  \n",
    "agg_df=df.groupby('State')['Sales'].sum().reset_index()\n",
    "print(\"\\nAggregation (Total Sales by Country):\")\n",
    "print(agg_df)"
   ]
  },
  {
   "cell_type": "code",
   "execution_count": 57,
   "id": "41107a82-36db-419b-bfdf-c0596de06e64",
   "metadata": {},
   "outputs": [
    {
     "name": "stdout",
     "output_type": "stream",
     "text": [
      "\n",
      "Sort (Descending Sales):\n",
      "   ID   Name  Age State  Sales Name_Upper\n",
      "2   3   Raju   23    UP    450       RAJU\n",
      "4   5   Prem   21    MH    420       PREM\n",
      "3   4   Kaju   40    MP    320       KAJU\n",
      "1   2  Shyam   32    GJ    300      SHYAM\n",
      "5   6  Rahul   30    UP    250      RAHUL\n",
      "0   1    Ram   20    MH    200        RAM\n"
     ]
    }
   ],
   "source": [
    "# sorting sales in descending order \n",
    "sorted_df=df.sort_values(by='Sales',ascending=False)\n",
    "print(\"\\nSort (Descending Sales):\")\n",
    "print(sorted_df)"
   ]
  },
  {
   "cell_type": "code",
   "execution_count": 59,
   "id": "2785aaf5-68bc-4a9a-a907-2f7c0e6fc01f",
   "metadata": {},
   "outputs": [],
   "source": [
    "#derieved column "
   ]
  },
  {
   "cell_type": "code",
   "execution_count": 63,
   "id": "a2074f56-daaa-4397-b9b8-f84afa5b47f0",
   "metadata": {},
   "outputs": [
    {
     "name": "stdout",
     "output_type": "stream",
     "text": [
      "\n",
      "Derieved Column (Sales Category): \n",
      "   ID   Name  Sales Sales_Category\n",
      "0   1    Ram    200            Low\n",
      "1   2  Shyam    300            Low\n",
      "2   3   Raju    450           High\n",
      "3   4   Kaju    320           High\n",
      "4   5   Prem    420           High\n",
      "5   6  Rahul    250            Low\n"
     ]
    }
   ],
   "source": [
    "df['Sales_Category']=df['Sales'].apply(lambda x : 'High' if x > 300 else 'Low')\n",
    "print(\"\\nDerieved Column (Sales Category): \")\n",
    "print(df[['ID','Name','Sales','Sales_Category']])"
   ]
  },
  {
   "cell_type": "code",
   "execution_count": null,
   "id": "e807c631-9298-48dd-a01c-3a31c0513dc5",
   "metadata": {},
   "outputs": [],
   "source": []
  }
 ],
 "metadata": {
  "kernelspec": {
   "display_name": "Python [conda env:base] *",
   "language": "python",
   "name": "conda-base-py"
  },
  "language_info": {
   "codemirror_mode": {
    "name": "ipython",
    "version": 3
   },
   "file_extension": ".py",
   "mimetype": "text/x-python",
   "name": "python",
   "nbconvert_exporter": "python",
   "pygments_lexer": "ipython3",
   "version": "3.12.7"
  }
 },
 "nbformat": 4,
 "nbformat_minor": 5
}
