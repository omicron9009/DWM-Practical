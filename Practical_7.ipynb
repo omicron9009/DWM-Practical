{
 "cells": [
  {
   "cell_type": "code",
   "execution_count": 56,
   "id": "197b8c6f-f5bc-4edb-8e99-150b036400ac",
   "metadata": {},
   "outputs": [
    {
     "name": "stdout",
     "output_type": "stream",
     "text": [
      "Defaulting to user installation because normal site-packages is not writeable\n",
      "Requirement already satisfied: apyori in c:\\users\\sit\\appdata\\roaming\\python\\python312\\site-packages (1.1.2)\n"
     ]
    }
   ],
   "source": [
    "!pip install apyori\n"
   ]
  },
  {
   "cell_type": "code",
   "execution_count": 57,
   "id": "69ca1b9d-08d3-48b0-b87a-1f62ded764af",
   "metadata": {},
   "outputs": [],
   "source": [
    "import numpy as np\n",
    "import pandas as pd \n",
    "from apyori import apriori"
   ]
  },
  {
   "cell_type": "code",
   "execution_count": 60,
   "id": "e4f75c8f-7c56-4e65-a61a-807b44be9a0d",
   "metadata": {},
   "outputs": [],
   "source": [
    "stored_data=pd.read_csv(\"C:\\\\Users\\\\SIT\\\\Downloads\\\\Day1.csv\",header=None)"
   ]
  },
  {
   "cell_type": "code",
   "execution_count": 62,
   "id": "d7dd6719-d6a0-4b23-bb0e-c7baaa6f5383",
   "metadata": {},
   "outputs": [
    {
     "data": {
      "text/html": [
       "<div>\n",
       "<style scoped>\n",
       "    .dataframe tbody tr th:only-of-type {\n",
       "        vertical-align: middle;\n",
       "    }\n",
       "\n",
       "    .dataframe tbody tr th {\n",
       "        vertical-align: top;\n",
       "    }\n",
       "\n",
       "    .dataframe thead th {\n",
       "        text-align: right;\n",
       "    }\n",
       "</style>\n",
       "<table border=\"1\" class=\"dataframe\">\n",
       "  <thead>\n",
       "    <tr style=\"text-align: right;\">\n",
       "      <th></th>\n",
       "      <th>0</th>\n",
       "      <th>1</th>\n",
       "      <th>2</th>\n",
       "      <th>3</th>\n",
       "      <th>4</th>\n",
       "      <th>5</th>\n",
       "    </tr>\n",
       "  </thead>\n",
       "  <tbody>\n",
       "    <tr>\n",
       "      <th>0</th>\n",
       "      <td>Wine</td>\n",
       "      <td>Chips</td>\n",
       "      <td>Bread</td>\n",
       "      <td>Butter</td>\n",
       "      <td>Milk</td>\n",
       "      <td>Apple</td>\n",
       "    </tr>\n",
       "    <tr>\n",
       "      <th>1</th>\n",
       "      <td>Wine</td>\n",
       "      <td>NaN</td>\n",
       "      <td>Bread</td>\n",
       "      <td>Butter</td>\n",
       "      <td>Milk</td>\n",
       "      <td>NaN</td>\n",
       "    </tr>\n",
       "    <tr>\n",
       "      <th>2</th>\n",
       "      <td>NaN</td>\n",
       "      <td>NaN</td>\n",
       "      <td>Bread</td>\n",
       "      <td>Butter</td>\n",
       "      <td>Milk</td>\n",
       "      <td>NaN</td>\n",
       "    </tr>\n",
       "    <tr>\n",
       "      <th>3</th>\n",
       "      <td>NaN</td>\n",
       "      <td>Chips</td>\n",
       "      <td>NaN</td>\n",
       "      <td>NaN</td>\n",
       "      <td>NaN</td>\n",
       "      <td>Apple</td>\n",
       "    </tr>\n",
       "    <tr>\n",
       "      <th>4</th>\n",
       "      <td>Wine</td>\n",
       "      <td>Chips</td>\n",
       "      <td>Bread</td>\n",
       "      <td>Butter</td>\n",
       "      <td>Milk</td>\n",
       "      <td>Apple</td>\n",
       "    </tr>\n",
       "  </tbody>\n",
       "</table>\n",
       "</div>"
      ],
      "text/plain": [
       "      0      1      2       3     4      5\n",
       "0  Wine  Chips  Bread  Butter  Milk  Apple\n",
       "1  Wine    NaN  Bread  Butter  Milk    NaN\n",
       "2   NaN    NaN  Bread  Butter  Milk    NaN\n",
       "3   NaN  Chips    NaN     NaN   NaN  Apple\n",
       "4  Wine  Chips  Bread  Butter  Milk  Apple"
      ]
     },
     "execution_count": 62,
     "metadata": {},
     "output_type": "execute_result"
    }
   ],
   "source": [
    "stored_data.head()"
   ]
  },
  {
   "cell_type": "code",
   "execution_count": 64,
   "id": "781c6342-67f7-4d73-b606-be6580cac149",
   "metadata": {},
   "outputs": [
    {
     "data": {
      "text/plain": [
       "(22, 6)"
      ]
     },
     "execution_count": 64,
     "metadata": {},
     "output_type": "execute_result"
    }
   ],
   "source": [
    "stored_data.shape"
   ]
  },
  {
   "cell_type": "code",
   "execution_count": 66,
   "id": "3a37e8cb-cfad-449c-94fe-c1dfd437008b",
   "metadata": {},
   "outputs": [],
   "source": [
    "records=[]\n",
    "for i in range(stored_data.shape[0]):\n",
    "    for j in range(stored_data.shape[1]):\n",
    "        records.append([str(stored_data.iloc[i,j])])\n"
   ]
  },
  {
   "cell_type": "code",
   "execution_count": 76,
   "id": "6b038765-0046-4382-bccc-d341a51b4164",
   "metadata": {},
   "outputs": [],
   "source": [
    "records=[]\n",
    "for i in range(0,22):\n",
    "    records.append([str(stored_data.values[i,j]) for j in range(0,6)]) "
   ]
  },
  {
   "cell_type": "code",
   "execution_count": 78,
   "id": "f4d7ec18-2bc6-4ae3-96ef-c04cf670c068",
   "metadata": {},
   "outputs": [
    {
     "data": {
      "text/plain": [
       "[['Wine', 'Chips', 'Bread', 'Butter', 'Milk', 'Apple'],\n",
       " ['Wine', 'nan', 'Bread', 'Butter', 'Milk', 'nan'],\n",
       " ['nan', 'nan', 'Bread', 'Butter', 'Milk', 'nan'],\n",
       " ['nan', 'Chips', 'nan', 'nan', 'nan', 'Apple'],\n",
       " ['Wine', 'Chips', 'Bread', 'Butter', 'Milk', 'Apple'],\n",
       " ['Wine', 'Chips', 'nan', 'nan', 'Milk', 'nan'],\n",
       " ['Wine', 'Chips', 'Bread', 'Butter', 'nan', 'Apple'],\n",
       " ['Wine', 'Chips', 'nan', 'nan', 'Milk', 'nan'],\n",
       " ['Wine', 'nan', 'Bread', 'nan', 'nan', 'Apple'],\n",
       " ['Wine', 'nan', 'Bread', 'Butter', 'Milk', 'nan'],\n",
       " ['nan', 'Chips', 'Bread', 'Butter', 'nan', 'Apple'],\n",
       " ['Wine', 'nan', 'nan', 'Butter', 'Milk', 'Apple'],\n",
       " ['Wine', 'Chips', 'Bread', 'Butter', 'Milk', 'nan'],\n",
       " ['Wine', 'nan', 'Bread', 'nan', 'Milk', 'Apple'],\n",
       " ['Wine', 'nan', 'Bread', 'Butter', 'Milk', 'Apple'],\n",
       " ['Wine', 'Chips', 'Bread', 'Butter', 'Milk', 'Apple'],\n",
       " ['nan', 'Chips', 'Bread', 'Butter', 'Milk', 'Apple'],\n",
       " ['nan', 'Chips', 'nan', 'Butter', 'Milk', 'Apple'],\n",
       " ['Wine', 'Chips', 'Bread', 'Butter', 'Milk', 'Apple'],\n",
       " ['Wine', 'nan', 'Bread', 'Butter', 'Milk', 'Apple'],\n",
       " ['Wine', 'Chips', 'Bread', 'nan', 'Milk', 'Apple'],\n",
       " ['nan', 'Chips', 'nan', 'nan', 'nan', 'nan']]"
      ]
     },
     "execution_count": 78,
     "metadata": {},
     "output_type": "execute_result"
    }
   ],
   "source": [
    "records"
   ]
  },
  {
   "cell_type": "code",
   "execution_count": 80,
   "id": "7e7a8d3e-5eca-4102-8a15-383ce01ac883",
   "metadata": {},
   "outputs": [],
   "source": [
    "association_rule=apriori(records,min_support=0.05,min_confidence=0.07,min_lift=1.2,min_length=2)\n",
    "association_rule=list(association_rule)"
   ]
  },
  {
   "cell_type": "code",
   "execution_count": 84,
   "id": "15350fcd-ab1a-48e2-8474-b3f56da2d49e",
   "metadata": {},
   "outputs": [
    {
     "name": "stdout",
     "output_type": "stream",
     "text": [
      "RelationRecord(items=frozenset({'Bread', 'Chips', 'Apple'}), support=0.36363636363636365, ordered_statistics=[OrderedStatistic(items_base=frozenset({'Apple'}), items_add=frozenset({'Chips', 'Bread'}), confidence=0.5333333333333334, lift=1.3037037037037038), OrderedStatistic(items_base=frozenset({'Chips', 'Bread'}), items_add=frozenset({'Apple'}), confidence=0.8888888888888888, lift=1.3037037037037038)])\n",
      "29\n"
     ]
    }
   ],
   "source": [
    "print(association_rule[0])\n",
    "print(len(association_rule))"
   ]
  },
  {
   "cell_type": "code",
   "execution_count": null,
   "id": "dfcdd991-1134-4583-b81c-b7eb47bdc5c0",
   "metadata": {},
   "outputs": [],
   "source": []
  },
  {
   "cell_type": "code",
   "execution_count": null,
   "id": "e4f00059-360f-459f-8e75-d422420c1048",
   "metadata": {},
   "outputs": [],
   "source": []
  }
 ],
 "metadata": {
  "kernelspec": {
   "display_name": "Python [conda env:base] *",
   "language": "python",
   "name": "conda-base-py"
  },
  "language_info": {
   "codemirror_mode": {
    "name": "ipython",
    "version": 3
   },
   "file_extension": ".py",
   "mimetype": "text/x-python",
   "name": "python",
   "nbconvert_exporter": "python",
   "pygments_lexer": "ipython3",
   "version": "3.12.7"
  }
 },
 "nbformat": 4,
 "nbformat_minor": 5
}
